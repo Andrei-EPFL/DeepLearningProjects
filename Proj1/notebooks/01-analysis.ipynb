{
 "metadata": {
  "language_info": {
   "codemirror_mode": {
    "name": "ipython",
    "version": 3
   },
   "file_extension": ".py",
   "mimetype": "text/x-python",
   "name": "python",
   "nbconvert_exporter": "python",
   "pygments_lexer": "ipython3",
   "version": "3.6.9"
  },
  "orig_nbformat": 2,
  "kernelspec": {
   "name": "python369jvsc74a57bd0e24e3437b38c225f13aebbf3973d76602dd5cb31f010787004767025a1b33c91",
   "display_name": "Python 3.6.9 64-bit ('pytorch': conda)"
  },
  "metadata": {
   "interpreter": {
    "hash": "e24e3437b38c225f13aebbf3973d76602dd5cb31f010787004767025a1b33c91"
   }
  }
 },
 "nbformat": 4,
 "nbformat_minor": 2,
 "cells": [
  {
   "cell_type": "code",
   "execution_count": null,
   "metadata": {},
   "outputs": [],
   "source": [
    "import matplotlib.pyplot as plt\n",
    "import torch\n",
    "import numpy "
   ]
  },
  {
   "cell_type": "code",
   "execution_count": null,
   "metadata": {},
   "outputs": [],
   "source": [
    "linestyles = ['-', '--']\n",
    "x = range(50)\n",
    "fig, ax = plt.subplots(2, 1, figsize=(6,8), sharex=True)\n",
    "for i, set_ in enumerate(['train', 'val']):\n",
    "    \n",
    "    for j, metric in enumerate(['loss', 'acc']):\n",
    "        ax[j].set_prop_cycle(None)\n",
    "        label = f\"Baseline\" if not i else \"\"\n",
    "        baseline = torch.load(f\"../results/convnet/data/ensemble_{set_}_{metric}-baseline.pkl\")\n",
    "        ax[j].errorbar(x, baseline.mean(axis=0), yerr=baseline.std(axis=0), ls=linestyles[i], c='k', errorevery=3, label=label)\n",
    "        for k, aux_loss in enumerate([0, 1]):\n",
    "            for l, weight_share in enumerate([0, 1]):\n",
    "                data = torch.load(f\"../results/convnet/data/ensemble_{set_}_{metric}-al{aux_loss}-ws{weight_share}.pkl\")\n",
    "                label = f\"al={aux_loss},ws={weight_share}\" if not i else \"\"\n",
    "                ax[j].errorbar(x, data.mean(axis=0), yerr=data.std(axis=0) ,ls=linestyles[i], label=label, errorevery=2)\n",
    "    \n",
    "ax[0].set_ylim(0,1.5)\n",
    "ax[0].set_ylabel('Loss')\n",
    "ax[1].set_ylabel('Accuracy')\n",
    "ax[1].set_xlabel('Epochs')\n",
    "fig.subplots_adjust(hspace=0)\n",
    "ax[1].legend(ncol=2)\n",
    "fig.savefig(\"../results/convnet/plots/learning_curves_all.png\", dpi=200, bbox_inches='tight')"
   ]
  },
  {
   "cell_type": "code",
   "execution_count": null,
   "metadata": {},
   "outputs": [],
   "source": [
    "linestyles = ['-', '--']\n",
    "x = range(10)\n",
    "fig, ax = plt.subplots(2, 1, figsize=(6,8), sharex=True)\n",
    "for i, set_ in enumerate(['train', 'val']):\n",
    "    \n",
    "    for j, metric in enumerate(['loss', 'acc']):\n",
    "        ax[j].set_prop_cycle(None)\n",
    "        label = f\"Baseline\" if not i else \"\"\n",
    "        baseline = torch.load(f\"../results/convnet/data/ensemble_{set_}_{metric}-baseline.pkl\")\n",
    "        ax[j].errorbar(x, baseline.mean(axis=0)[:10], yerr=baseline.std(axis=0)[:10], ls=linestyles[i], c='k', errorevery=3, label=label)\n",
    "        for k, aux_loss in enumerate([0, 1]):\n",
    "            for l, weight_share in enumerate([0, 1]):\n",
    "                data = torch.load(f\"../results/convnet/data/ensemble_{set_}_{metric}-al{aux_loss}-ws{weight_share}.pkl\")\n",
    "                label = f\"al={aux_loss},ws={weight_share}\" if not i else \"\"\n",
    "                ax[j].errorbar(x, data.mean(axis=0)[:10], yerr=data.std(axis=0)[:10] ,ls=linestyles[i], label=label, errorevery=2)\n",
    "    \n",
    "ax[0].set_ylim(0,1.5)\n",
    "ax[0].set_ylabel('Loss')\n",
    "ax[1].set_ylabel('Accuracy')\n",
    "ax[1].set_xlabel('Epochs')\n",
    "fig.subplots_adjust(hspace=0)\n",
    "ax[1].legend(ncol=2)\n",
    "fig.savefig(\"../results/convnet/plots/learning_curves_all_start.png\", dpi=200, bbox_inches='tight')"
   ]
  },
  {
   "cell_type": "code",
   "execution_count": null,
   "metadata": {},
   "outputs": [],
   "source": [
    "linestyles = ['-', '--']\n",
    "x = range(50)\n",
    "fig, ax = plt.subplots(2, 1, figsize=(6,8), sharex=True)\n",
    "for i, set_ in enumerate(['train', 'val']):\n",
    "    \n",
    "    for j, metric in enumerate(['loss', 'acc']):\n",
    "        ax[j].set_prop_cycle(None)\n",
    "        label = f\"Baseline\" if not i else \"\"\n",
    "        baseline = torch.load(f\"../results/convnet/data/ensemble_{set_}_{metric}-baseline.pkl\")\n",
    "        ax[j].errorbar(x, np.gradient(baseline.mean(axis=0).numpy()), yerr=None, ls=linestyles[i], c='k', errorevery=3, label=label)\n",
    "        for k, aux_loss in enumerate([0, 1]):\n",
    "            for l, weight_share in enumerate([0, 1]):\n",
    "                data = torch.load(f\"../results/convnet/data/ensemble_{set_}_{metric}-al{aux_loss}-ws{weight_share}.pkl\")\n",
    "                label = f\"al={aux_loss},ws={weight_share}\" if not i else \"\"\n",
    "                ax[j].errorbar(x, np.gradient(data.mean(axis=0).numpy()), yerr=None ,ls=linestyles[i], label=label, errorevery=2)\n",
    "    \n",
    "#ax[0].set_ylim(0,1.5)\n",
    "ax[0].set_ylabel('Loss Convergence Rate')\n",
    "ax[0].set_yscale('symlog', linthreshy=2e-2)\n",
    "ax[1].set_yscale('symlog', linthreshy=2e-2)\n",
    "ax[1].set_ylabel('Accuracy Convergence Rate')\n",
    "ax[1].set_xlabel('Epochs')\n",
    "\n",
    "fig.subplots_adjust(hspace=0)\n",
    "ax[1].legend(ncol=2)\n",
    "fig.savefig(\"../results/convnet/plots/grad_learning_curves_all.png\", dpi=200, bbox_inches='tight')"
   ]
  },
  {
   "cell_type": "code",
   "execution_count": null,
   "metadata": {},
   "outputs": [],
   "source": [
    "linestyles = ['-', '--']\n",
    "x = range(50)\n",
    "fig, ax = plt.subplots(2, 1, figsize=(6,8), sharex=True)\n",
    "for i, set_ in enumerate(['train', 'val']):\n",
    "    \n",
    "    for j, metric in enumerate(['loss', 'acc']):\n",
    "        ax[j].set_prop_cycle(None)\n",
    "        label = f\"Baseline\" if not i else \"\"\n",
    "        #baseline = torch.load(f\"../results/resnet/data/ensemble_{set_}_{metric}-baseline.pkl\")\n",
    "        #ax[j].errorbar(x, np.gradient(baseline.mean(axis=0).numpy()), yerr=None, ls=linestyles[i], c='k', errorevery=3, label=label)\n",
    "        for k, aux_loss in enumerate([0, 1]):\n",
    "            for l, weight_share in enumerate([0, 1]):\n",
    "                try:\n",
    "                    data = torch.load(f\"../results/resnet/data/ensemble_{set_}_{metric}-al{aux_loss}-ws{weight_share}.pkl\")\n",
    "                    label = f\"al={aux_loss},ws={weight_share}\" if not i else \"\"\n",
    "                    ax[j].errorbar(x, np.gradient(data.mean(axis=0).numpy()), yerr=None ,ls=linestyles[i], label=label, errorevery=2)\n",
    "                except: pass\n",
    "    \n",
    "#ax[0].set_ylim(0,1.5)\n",
    "ax[0].set_ylabel('Loss Convergence Rate')\n",
    "ax[0].set_yscale('symlog', linthreshy=2e-2)\n",
    "ax[1].set_yscale('symlog', linthreshy=2e-2)\n",
    "ax[1].set_ylabel('Accuracy Convergence Rate')\n",
    "ax[1].set_xlabel('Epochs')\n",
    "\n",
    "fig.subplots_adjust(hspace=0)\n",
    "ax[1].legend(ncol=2)\n",
    "fig.savefig(\"../results/resnet/plots/grad_learning_curves_all.png\", dpi=200, bbox_inches='tight')"
   ]
  },
  {
   "cell_type": "code",
   "execution_count": null,
   "metadata": {},
   "outputs": [],
   "source": []
  }
 ]
}